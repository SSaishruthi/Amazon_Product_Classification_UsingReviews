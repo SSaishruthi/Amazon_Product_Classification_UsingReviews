{
 "cells": [
  {
   "cell_type": "code",
   "execution_count": 1,
   "metadata": {},
   "outputs": [
    {
     "name": "stderr",
     "output_type": "stream",
     "text": [
      "/home/ss/anaconda2/lib/python2.7/site-packages/sklearn/cross_validation.py:44: DeprecationWarning: This module was deprecated in version 0.18 in favor of the model_selection module into which all the refactored classes and functions are moved. Also note that the interface of the new CV iterators are different from that of this module. This module will be removed in 0.20.\n",
      "  \"This module will be removed in 0.20.\", DeprecationWarning)\n"
     ]
    }
   ],
   "source": [
    "import pandas as pd\n",
    "import numpy as np\n",
    "import nltk\n",
    "from nltk.corpus import stopwords\n",
    "from collections import Counter\n",
    "import gzip\n",
    "from sklearn.utils import shuffle\n",
    "import json\n",
    "from sklearn.feature_extraction.text import CountVectorizer\n",
    "from sklearn.cross_validation import train_test_split\n",
    "from sklearn.naive_bayes import MultinomialNB\n",
    "from sklearn import metrics\n",
    "from sklearn.pipeline import Pipeline\n",
    "from sklearn.model_selection import ShuffleSplit\n",
    "from sklearn.model_selection import cross_val_score"
   ]
  },
  {
   "cell_type": "code",
   "execution_count": 2,
   "metadata": {
    "collapsed": true
   },
   "outputs": [],
   "source": [
    "def parse(path):\n",
    "  g = gzip.open(path, 'rb')\n",
    "  for l in g:\n",
    "    yield eval(l)\n",
    "\n",
    "def getDF(path):\n",
    "  i = 0\n",
    "  df = {}\n",
    "  for d in parse(path):\n",
    "    df[i] = d\n",
    "    i += 1\n",
    "  return pd.DataFrame.from_dict(df, orient='index')\n",
    "\n",
    "df1 = getDF('Automotive.json.gz')\n",
    "df2 = getDF('Cloth_shoes.json.gz')\n",
    "df3 = getDF('Digi_Mus.json.gz')\n",
    "df4 = getDF('Electronics.json.gz')\n",
    "df5 = getDF('garden.json.gz')\n",
    "df6 = getDF('health.json.gz')\n",
    "df7 = getDF('home_kitchen.json.gz')\n",
    "df8 = getDF('kindle.json.gz')\n",
    "df9 = getDF('office_prod.json.gz')\n",
    "df10 = getDF('pet_supply.json.gz')\n",
    "df11 = getDF('tools.json.gz')"
   ]
  },
  {
   "cell_type": "code",
   "execution_count": 3,
   "metadata": {
    "collapsed": true
   },
   "outputs": [],
   "source": [
    "labels1 = ['Automotive', 'Cloth_shoes', 'Digi_Mus', 'Electronics', 'garden', 'health', 'home_kitchen', 'kindle', 'office_prod', 'pet_supply', 'tools']"
   ]
  },
  {
   "cell_type": "code",
   "execution_count": 4,
   "metadata": {
    "collapsed": true
   },
   "outputs": [],
   "source": [
    "df1['Class'] = 'Automotive'\n",
    "df2['Class'] = 'Cloth_shoes'\n",
    "df3['Class'] = 'Digi_Mus'\n",
    "df4['Class'] = 'Electronics'\n",
    "df5['Class'] = 'garden'\n",
    "df6['Class'] = 'health'\n",
    "df7['Class'] = 'home_kitchen'\n",
    "df8['Class'] = 'kindle'\n",
    "df9['Class'] = 'office_prod'\n",
    "df10['Class'] = 'pet_supply'\n",
    "df11['Class'] = 'tools'"
   ]
  },
  {
   "cell_type": "code",
   "execution_count": 5,
   "metadata": {
    "collapsed": true
   },
   "outputs": [],
   "source": [
    "df1_split = df1[0:10000]\n",
    "df2_split = df2[0:10000]\n",
    "df3_split = df3[0:10000]\n",
    "df4_split = df4[0:10000]\n",
    "df5_split = df5[0:10000]\n",
    "df6_split = df6[0:10000]\n",
    "df7_split = df7[0:10000]\n",
    "df8_split = df8[0:10000]\n",
    "df9_split = df9[0:10000]\n",
    "df10_split = df10[0:10000]\n",
    "df11_split = df11[0:10000]"
   ]
  },
  {
   "cell_type": "code",
   "execution_count": 6,
   "metadata": {
    "collapsed": true
   },
   "outputs": [],
   "source": [
    "frames = [df1_split, df2_split, df3_split, df4_split, df5_split, df6_split, df7_split, df8_split, df9_split, df10_split, df11_split]\n",
    "df = pd.concat(frames)\n",
    "df = shuffle(df)"
   ]
  },
  {
   "cell_type": "code",
   "execution_count": 7,
   "metadata": {
    "collapsed": true
   },
   "outputs": [],
   "source": [
    "tr_x, ts_x, tr_y, ts_y = train_test_split(df['reviewText'], df['Class'], test_size=0.2, random_state=0)"
   ]
  },
  {
   "cell_type": "code",
   "execution_count": 8,
   "metadata": {
    "collapsed": true
   },
   "outputs": [],
   "source": [
    "df_ts_x = pd.DataFrame(ts_x)\n",
    "df_ts_y = pd.DataFrame(ts_y)"
   ]
  },
  {
   "cell_type": "markdown",
   "metadata": {},
   "source": [
    "# Multinomial NB"
   ]
  },
  {
   "cell_type": "code",
   "execution_count": 9,
   "metadata": {
    "collapsed": true
   },
   "outputs": [],
   "source": [
    "uni_vectorizer = CountVectorizer(min_df=1, stop_words='english')\n",
    "bi_vectorizer = CountVectorizer(ngram_range=(1, 2), min_df=1, stop_words='english')\n",
    "tri_vectorizer = CountVectorizer(ngram_range=(1, 3), min_df=1, stop_words='english')\n",
    "four_vectorizer = CountVectorizer(ngram_range=(1, 4), min_df=1, stop_words='english')\n",
    "\n",
    "\n",
    "\n",
    "cls = MultinomialNB()\n",
    "\n",
    "unigram_pred = Pipeline([\n",
    "    ('vect', uni_vectorizer),\n",
    "    ('classifier', cls)\n",
    "])\n",
    "\n",
    "bigram_pred = Pipeline([\n",
    "    ('vect', bi_vectorizer),\n",
    "    ('classifier', cls)\n",
    "])\n",
    "\n",
    "trigram_pred = Pipeline([\n",
    "    ('vect', tri_vectorizer),\n",
    "    ('classifier', cls)\n",
    "])\n",
    "\n",
    "fourgram_pred = Pipeline([\n",
    "    ('vect', four_vectorizer),\n",
    "    ('classifier', cls)\n",
    "])\n"
   ]
  },
  {
   "cell_type": "markdown",
   "metadata": {},
   "source": [
    "UNIGRAM NB"
   ]
  },
  {
   "cell_type": "code",
   "execution_count": 10,
   "metadata": {},
   "outputs": [
    {
     "name": "stdout",
     "output_type": "stream",
     "text": [
      "('cross_validation scores', array([ 0.8857197 ,  0.88734848,  0.88568182,  0.88988636,  0.88594697]))\n",
      "['Automotive', 'Cloth_shoes', 'Digi_Mus', 'Electronics', 'garden', 'health', 'home_kitchen', 'kindle', 'office_prod', 'pet_supply', 'tools']\n",
      "[[1683   20    0   30   70   42   38    1   26   17  122]\n",
      " [   9 1888    2   21   16   19    7    7   17    7   11]\n",
      " [   0    0 1988    8    0    0    1    2    0    0    0]\n",
      " [  32   19    8 1704   12   33    8    4   96   12   43]\n",
      " [  36   11    0   12 1799   12   48    0   13   21   62]\n",
      " [  53   72    1   53   52 1565   71    5   39   44   54]\n",
      " [  18   22    1   15   39   30 1790    7   12   17   52]\n",
      " [   0    1    4   34    3    0    3 1936    5    0    0]\n",
      " [  16    9    3   60   24   15   14    3 1801    4   31]\n",
      " [  33   15    1    4   82   70   20    0   11 1738   19]\n",
      " [  78   21    1   44   53   36   17    2   50    4 1686]]\n",
      "('Accuracy score is', 0.88990909090909087)\n"
     ]
    }
   ],
   "source": [
    "#CROSS VALIDATION\n",
    "cv1 = ShuffleSplit(n_splits=5, test_size = 0.3, random_state=0)\n",
    "scores = cross_val_score(unigram_pred, tr_x, tr_y, cv=cv1)\n",
    "print ('cross_validation scores', scores)\n",
    "#\n",
    "unigram_pred.fit(tr_x, tr_y)\n",
    "unigram_result = unigram_pred.predict(ts_x)\n",
    "print(labels1)\n",
    "confusion_matrix = metrics.confusion_matrix(ts_y, unigram_result, labels=labels1)\n",
    "print (confusion_matrix)\n",
    "score = metrics.accuracy_score(ts_y, unigram_result)\n",
    "print('Accuracy score is', score)"
   ]
  },
  {
   "cell_type": "markdown",
   "metadata": {},
   "source": [
    "BIGRAM NB"
   ]
  },
  {
   "cell_type": "code",
   "execution_count": 11,
   "metadata": {},
   "outputs": [
    {
     "name": "stdout",
     "output_type": "stream",
     "text": [
      "('cross_validation scores', array([ 0.84643939,  0.84757576,  0.84617424,  0.84753788,  0.84598485]))\n",
      "['Automotive', 'Cloth_shoes', 'Digi_Mus', 'Electronics', 'garden', 'health', 'home_kitchen', 'kindle', 'office_prod', 'pet_supply', 'tools']\n",
      "('confusion matrix is', array([[1413,    5,    5,   60,  343,   21,   26,    1,   32,   12,  131],\n",
      "       [   6, 1740,   16,   53,  100,   16,   12,    5,   36,    3,   17],\n",
      "       [   0,    0, 1996,    3,    0,    0,    0,    0,    0,    0,    0],\n",
      "       [   9,    4,   17, 1739,   67,   10,    5,    3,   86,    6,   25],\n",
      "       [   9,    2,    2,    8, 1931,    4,   20,    0,    5,    3,   30],\n",
      "       [  28,   37,    9,   98,  287, 1370,   56,    4,   51,   15,   54],\n",
      "       [   4,    8,    6,   20,  188,   11, 1694,    9,   15,    4,   44],\n",
      "       [   0,    0,   25,   29,    5,    0,    1, 1923,    3,    0,    0],\n",
      "       [   3,    3,    5,   64,   62,    4,    7,    3, 1806,    2,   21],\n",
      "       [  12,    4,    8,   14,  304,   46,   14,    0,   12, 1563,   16],\n",
      "       [  22,    9,    3,   67,  197,   18,   15,    1,   51,    0, 1609]]))\n",
      "('Accuracy score is', 0.85381818181818181)\n"
     ]
    }
   ],
   "source": [
    "#CROSS VALIDATION\n",
    "cv1 = ShuffleSplit(n_splits=5, test_size = 0.3, random_state=0)\n",
    "scores = cross_val_score(bigram_pred, tr_x, tr_y, cv=cv1)\n",
    "print ('cross_validation scores', scores)\n",
    "#\n",
    "bigram_pred.fit(tr_x, tr_y)\n",
    "bigram_result = bigram_pred.predict(ts_x)\n",
    "print(labels1)\n",
    "confusion_matrix = metrics.confusion_matrix(ts_y, bigram_result, labels=labels1)\n",
    "print ('confusion matrix is', confusion_matrix)\n",
    "score = metrics.accuracy_score(ts_y, bigram_result)\n",
    "print('Accuracy score is', score)"
   ]
  },
  {
   "cell_type": "markdown",
   "metadata": {},
   "source": [
    "TRIGRAM NB"
   ]
  },
  {
   "cell_type": "code",
   "execution_count": 12,
   "metadata": {},
   "outputs": [
    {
     "name": "stdout",
     "output_type": "stream",
     "text": [
      "('cross_validation scores', array([ 0.83      ,  0.83253788,  0.83162879,  0.83284091,  0.83026515]))\n",
      "['Automotive', 'Cloth_shoes', 'Digi_Mus', 'Electronics', 'garden', 'health', 'home_kitchen', 'kindle', 'office_prod', 'pet_supply', 'tools']\n",
      "('confusion matrix is', array([[1340,    5,    8,   59,  430,   23,   27,    0,   32,    9,  116],\n",
      "       [   6, 1685,   24,   60,  141,   12,    8,    5,   45,    1,   17],\n",
      "       [   0,    0, 1996,    3,    0,    0,    0,    0,    0,    0,    0],\n",
      "       [   7,    3,   19, 1734,   78,    8,    3,    4,   85,    5,   25],\n",
      "       [   5,    2,    3,   10, 1945,    2,   17,    0,    3,    3,   24],\n",
      "       [  22,   31,   17,  107,  364, 1294,   49,    3,   53,   15,   54],\n",
      "       [   5,    8,    6,   23,  227,   12, 1656,    9,   16,    3,   38],\n",
      "       [   0,    0,   37,   30,    5,    0,    1, 1910,    3,    0,    0],\n",
      "       [   3,    3,    6,   65,   78,    5,    7,    3, 1792,    2,   16],\n",
      "       [  11,    4,    9,   18,  375,   38,   10,    0,   12, 1504,   12],\n",
      "       [  19,    8,    4,   71,  233,   15,   16,    1,   46,    0, 1579]]))\n",
      "('Accuracy score is', 0.83795454545454551)\n"
     ]
    }
   ],
   "source": [
    "#CROSS VALIDATION\n",
    "cv1 = ShuffleSplit(n_splits=5, test_size = 0.3, random_state=0)\n",
    "scores = cross_val_score(trigram_pred, tr_x, tr_y, cv=cv1)\n",
    "print ('cross_validation scores', scores)\n",
    "#\n",
    "trigram_pred.fit(tr_x, tr_y)\n",
    "trigram_result = trigram_pred.predict(ts_x)\n",
    "print(labels1)\n",
    "confusion_matrix = metrics.confusion_matrix(ts_y, trigram_result, labels=labels1)\n",
    "print ('confusion matrix is', confusion_matrix)\n",
    "score = metrics.accuracy_score(ts_y, trigram_result)\n",
    "print('Accuracy score is', score)"
   ]
  },
  {
   "cell_type": "code",
   "execution_count": null,
   "metadata": {
    "collapsed": true
   },
   "outputs": [],
   "source": []
  },
  {
   "cell_type": "code",
   "execution_count": null,
   "metadata": {
    "collapsed": true
   },
   "outputs": [],
   "source": []
  }
 ],
 "metadata": {
  "kernelspec": {
   "display_name": "Python 2",
   "language": "python",
   "name": "python2"
  },
  "language_info": {
   "codemirror_mode": {
    "name": "ipython",
    "version": 2
   },
   "file_extension": ".py",
   "mimetype": "text/x-python",
   "name": "python",
   "nbconvert_exporter": "python",
   "pygments_lexer": "ipython2",
   "version": "2.7.13"
  }
 },
 "nbformat": 4,
 "nbformat_minor": 2
}
